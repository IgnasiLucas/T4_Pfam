{
 "cells": [
  {
   "cell_type": "markdown",
   "metadata": {},
   "source": [
    "# Cómo encontrar dominios en un conjunto de proteínas y leer los datos en una tabla en R\n",
    "\n",
    "La base de datos de dominos y familias proteicas Pfam se crea automáticamente mediante el uso de los programa del paquete HMMER3. Éste **no** es un paquete de R, sino que se ejecuta desde la línea de comandos o el terminal. A partir de un alineamiento *semilla* de una familia o dominio se genera (`hmmbuild`) un modelo de Markov escondido (HMM) con el que se pueden buscar (`hmmsearch`) nuevos miembros de esta misma familia en una base de datos de secuencias. También es possible realizar la búsqueda inversa: determinar si alguno de los dominios presentes en una base de datos de perfiles HMM se puede reconocer en la secuencia de una proteína (`hmmscan`).\n",
    "\n",
    "En esta carpeta de trabajo tenéis los alineamientos *semilla* de cuatro dominios del clan ANL: ACAS_N, AMP-binding, GH3 y LuxE. También tenéis las secuencias de todas la proteínas codificadas en el genoma de la bacteria `Salinibacter ruber`. El objetivo es determinar si existen dominios del clan ANL en este genoma.\n",
    "\n",
    "La mayor parte de la práctica se realiza en la linea de comandos, no en R. Para poder recordar todos los pasos realizados en la terminal es necesario escribirlos en un archivo de texto plano, al que podemos darle una extensión \".sh\" para indicar que se trata de un *script* de BASH. Encuentra en esta carpeta el archivo `dominios.sh`, donde se han guardado todos los comandos necesarios para realizar la práctica. Brevemente:\n",
    "\n",
    "1. Primero instalaremos `hmmer3` usando el terminal:\n",
    "\n",
    "`conda install -c bioconda hmmer`\n",
    "\n",
    "2. Construímos los HMM de cada dominio, siguiendo el esquema:\n",
    "\n",
    "`hmmbuild AMP-binding.hmm AMP-binding_seed.sto`\n",
    "\n",
    "3. Concatenamos los cuatro HMM:\n",
    "\n",
    "`cat *.hmm > ANL_clan`\n",
    "    \n",
    "4. Comprimiremos e indexaremos los HMM del clan:\n",
    "\n",
    "`hmmpress ANL_clan`\n",
    "    \n",
    "5. Y finalmente escaneamos los perfiles.\n",
    "\n",
    "`hmmscan ANL_clan Salinibacter_ruber.fasta --tblout perSeq.out --domtblout perDom.out`\n",
    "\n",
    "Los comandos anteriores pueden haberse ejecutado uno a uno en la terminal o la serie completa de una vez si estaban guardados en un script. Por ejemplo, el script `dominios.sh` producirá todos los resultados necesarios al ejecutarlo de la manera siguiente:\n",
    "\n",
    "`bash dominos.sh`\n",
    "\n",
    "Suponiendo que existe el archivo `perDom.out`, vamos ahora a leerlo en R mediante la función `read_domtblout()` del paquete `rhmmer`."
   ]
  },
  {
   "cell_type": "code",
   "execution_count": 1,
   "metadata": {},
   "outputs": [],
   "source": [
    "system2(command = 'hmmbuild',\n",
    "        args = c('AMP-binding.hmm', 'AMP-binding_seed.sto'))\n",
    "system2(command = 'hmmbuild',\n",
    "        args = c('ACAS_N.hmm', 'ACAS_N_seed.sto'))\n",
    "system2(command = 'hmmbuild',\n",
    "        args = c('GH3.hmm', 'GH3_seed.sto'))\n",
    "system2(command = 'hmmbuild',\n",
    "        args = c('LuxE.hmm', 'LuxE_seed.sto'))"
   ]
  },
  {
   "cell_type": "code",
   "execution_count": 2,
   "metadata": {},
   "outputs": [],
   "source": [
    "system2(command = 'cat', args = '*.hmm', stdout = 'ANL_clan')\n",
    "system2(command = 'hmmpress', args = 'ANL_clan')\n",
    "system2(command = 'hmmscan',\n",
    "        args = c('ANL_clan',\n",
    "                 'Salinibacter_ruber.fasta',\n",
    "                 '--tblout', 'perSeq.out',\n",
    "                 '--domtblout', 'perDom.out'))"
   ]
  },
  {
   "cell_type": "code",
   "execution_count": null,
   "metadata": {},
   "outputs": [],
   "source": [
    "library('rhmmer')\n",
    "dominios <- read_domtblout('perDom.out')\n",
    "dominios"
   ]
  },
  {
   "cell_type": "markdown",
   "metadata": {},
   "source": [
    "Con el simple propósito de ilustrar las ventajas de tener los resultados en la memoria de trabajo de la sesión de R, a continuación aplicamos algunas funciones para resumir e interpretar los resultados."
   ]
  },
  {
   "cell_type": "code",
   "execution_count": null,
   "metadata": {},
   "outputs": [],
   "source": [
    "# La función table() cuenta el número de ocurrencias de cada combinación\n",
    "# posible entre los valores de las columnas seleccionadas. La función\n",
    "# t() transpone la tabla para visualizarla mejor:\n",
    "\n",
    "t(table(dominios[,c('domain_name','query_name')]))"
   ]
  },
  {
   "cell_type": "markdown",
   "metadata": {},
   "source": [
    "De los cuatro dominos del clan ANL, solo tres se encuentran entre las proteínas de *Salinibacter ruber*. Entre las 2780 proteínas en esta bacteria, solo 7 tienen alguno de los dominios ANL. Curiosamente, tres de ellas tienen más de uno. Cabe preguntarse si estan separados o si alguna predicción es redundante. Es decir, puesto que son dominios relacionados: ¿podría ser que con dos HMMs diferentes (el de ACAS_N y el de AMP-binding, por ejemplo) estemos detectando un mismo segmento en alguna de las proteínas Q2S1J8 y Q2S1X8? Veamoslo."
   ]
  },
  {
   "cell_type": "code",
   "execution_count": null,
   "metadata": {},
   "outputs": [],
   "source": [
    "# Esta sintaxis selecciona las filas y las columnas de la tabla \"dominios\"\n",
    "# que queremos ver:\n",
    "\n",
    "dominios[dominios$query_name == \"tr|Q2S1J8|Q2S1J8_SALRD\", c('domain_name','ali_from','ali_to','domain_ievalue')]"
   ]
  },
  {
   "cell_type": "markdown",
   "metadata": {},
   "source": [
    "Así pues, este fragmento de la tabla `dominios` muestra que efectivamente el HMM de ACAS_N también detecta partes del dominio AMP-binding en la proteína Q2S1J8. La gran diferencia en valores E entre el dominio AMP-binding y los tres últimos dominios ACAS_N con los que solapa nos decantan por AMP-binding."
   ]
  },
  {
   "cell_type": "code",
   "execution_count": null,
   "metadata": {},
   "outputs": [],
   "source": [
    "dominios[dominios$query_name == \"tr|Q2S1X8|Q2S1X8_SALRD\", c('domain_name','ali_from','ali_to','domain_ievalue')]"
   ]
  },
  {
   "cell_type": "markdown",
   "metadata": {},
   "source": [
    "La proteína Q2S1X8 tiene la misma estructura. Pero esta vez no hay *falsos positivos*."
   ]
  }
 ],
 "metadata": {
  "kernelspec": {
   "display_name": "R",
   "language": "R",
   "name": "ir"
  },
  "language_info": {
   "codemirror_mode": "r",
   "file_extension": ".r",
   "mimetype": "text/x-r-source",
   "name": "R",
   "pygments_lexer": "r",
   "version": "4.2.0"
  }
 },
 "nbformat": 4,
 "nbformat_minor": 4
}
