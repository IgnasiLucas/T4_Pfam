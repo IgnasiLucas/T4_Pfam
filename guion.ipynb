{
 "cells": [
  {
   "cell_type": "markdown",
   "metadata": {},
   "source": [
    "# Cómo encontrar dominios en un conjunto de proteínas y leer los datos en una tabla en R\n",
    "\n",
    "La base de datos de dominos y familias proteicas Pfam se crea automáticamente mediante el uso de los programa del paquete HMMER3. Éste **no** es un paquete de R, sino que se ejecuta desde la línea de comandos o el terminal. A partir de un alineamiento *semilla* de una familia o dominio se genera (`hmmbuild`) un modelo de Markov escondido (HMM) con el que se pueden buscar (`hmmsearch`) nuevos miembros de esta misma familia en una base de datos de secuencias. También es possible realizar la búsqueda inversa: determinar si alguno de los dominios presentes en una base de datos de perfiles HMM se puede reconocer en la secuencia de una proteína (`hmmscan`).\n",
    "\n",
    "En esta carpeta de trabajo tenéis los alineamientos *semilla* de cuatro dominios del clan ANL: ACAS_N, AMP-binding, GH3 y LuxE. También tenéis las secuencias de todas la proteínas codificadas en el genoma de la bacteria `Salinibacter ruber`. El objetivo es determinar si existen dominios del clan ANL en este genoma. \n",
    "\n",
    "Primero instalaremos `hmmer3` usando el terminal:\n",
    "\n",
    "    `conda install -c bioconda hmmer`\n",
    "\n",
    "Todavía en el terminal, construiremos los HMM de cada dominio, siguiendo el esquema:\n",
    "\n",
    "    `hmmbuild AMP-binding.hmm AMP-binding_seed.sto`\n",
    "\n",
    "Concatenaremos los cuatro HMM:\n",
    "\n",
    "    `cat *.hmm > ANL_clan`\n",
    "    \n",
    "Comprimiremos e indexaremos los HMM del clan:\n",
    "\n",
    "    `hmmpress ANL_clan`\n",
    "    \n",
    "Y procederemos a escanear los perfiles.\n",
    "\n"
   ]
  },
  {
   "cell_type": "code",
   "execution_count": null,
   "metadata": {},
   "outputs": [],
   "source": [
    "library('rhmmer')\n",
    "dominios <- read_domtblout()"
   ]
  },
  {
   "cell_type": "code",
   "execution_count": null,
   "metadata": {},
   "outputs": [],
   "source": []
  }
 ],
 "metadata": {
  "kernelspec": {
   "display_name": "R",
   "language": "R",
   "name": "ir"
  },
  "language_info": {
   "codemirror_mode": "r",
   "file_extension": ".r",
   "mimetype": "text/x-r-source",
   "name": "R",
   "pygments_lexer": "r",
   "version": "3.6.3"
  }
 },
 "nbformat": 4,
 "nbformat_minor": 4
}
